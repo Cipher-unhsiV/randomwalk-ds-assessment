{
 "cells": [
  {
   "cell_type": "code",
   "execution_count": null,
   "id": "eca736ca-fff3-42f8-8b73-4d91041b4694",
   "metadata": {},
   "outputs": [],
   "source": [
    "import numpy as np\n",
    "import pandas as pd"
   ]
  },
  {
   "cell_type": "code",
   "execution_count": null,
   "id": "c90856c2-9ef8-44aa-a28d-112a8499bca4",
   "metadata": {},
   "outputs": [],
   "source": [
    "books_df = pd.read_csv(\"books.csv\")"
   ]
  },
  {
   "cell_type": "code",
   "execution_count": null,
   "id": "01f04a74-69ff-4134-82b5-71217dfe05ae",
   "metadata": {},
   "outputs": [],
   "source": [
    "books_df.columns"
   ]
  },
  {
   "cell_type": "code",
   "execution_count": null,
   "id": "c88e78f4-c50a-4e78-bf50-61e6a5a78d8d",
   "metadata": {},
   "outputs": [],
   "source": [
    "books_df.describe()"
   ]
  },
  {
   "cell_type": "code",
   "execution_count": null,
   "id": "ccfd2c9c-8dac-419b-8ec1-cf84378d2bbe",
   "metadata": {},
   "outputs": [],
   "source": [
    "books_df.sample(10)"
   ]
  },
  {
   "cell_type": "markdown",
   "id": "1a32318e-8bf8-4ff6-9ab3-eae2a41e8091",
   "metadata": {},
   "source": [
    "## Q1: How many rows and columns are there in books.csv dataset?"
   ]
  },
  {
   "cell_type": "code",
   "execution_count": null,
   "id": "a349ca8d-0172-4de1-97f8-aa1fe361b873",
   "metadata": {},
   "outputs": [],
   "source": [
    "books_df.shape"
   ]
  },
  {
   "cell_type": "code",
   "execution_count": null,
   "id": "1f6d7fa3-d5f2-46e6-a5cf-8576f6e71a75",
   "metadata": {},
   "outputs": [],
   "source": [
    "print(\"The \\'books.csv\\' dataset contains {} rows and {} columns.\".format(books_df.shape[0],books_df.shape[1]))"
   ]
  },
  {
   "cell_type": "markdown",
   "id": "0f2f8f85-8b4f-4b5b-839d-6b5886cae40a",
   "metadata": {},
   "source": [
    "## Q2: How many books do not have an original title?"
   ]
  },
  {
   "cell_type": "code",
   "execution_count": null,
   "id": "9ddc6d67-ae34-4cb7-a9c6-1987548befaa",
   "metadata": {},
   "outputs": [],
   "source": [
    "books_df.original_title"
   ]
  },
  {
   "cell_type": "code",
   "execution_count": null,
   "id": "4b2c911f-e14f-446f-a30e-2a506480854d",
   "metadata": {},
   "outputs": [],
   "source": [
    "books_df.original_title.isnull().sum()"
   ]
  },
  {
   "cell_type": "code",
   "execution_count": null,
   "id": "d724f2f0-069e-40fc-9e6f-208e530716d5",
   "metadata": {},
   "outputs": [],
   "source": [
    "books_without_title = books_df.original_title.isnull().sum()"
   ]
  },
  {
   "cell_type": "code",
   "execution_count": null,
   "id": "9f6f33bd-c3ea-4123-a2ee-04b37a28f643",
   "metadata": {},
   "outputs": [],
   "source": [
    "print(\"{} books do not have original title.\".format(books_without_title))"
   ]
  },
  {
   "cell_type": "markdown",
   "id": "34717c65-3620-4928-b24b-b3a5249cff8e",
   "metadata": {},
   "source": [
    "## Q3: How many unique books are present in the dataset ? Evaluate based on the 'book_id' after removing null values in the original_title column."
   ]
  },
  {
   "cell_type": "code",
   "execution_count": null,
   "id": "edfccd03-7157-4061-a2ce-87e3693fe8ce",
   "metadata": {},
   "outputs": [],
   "source": [
    "unique_books = books_df.dropna(subset=\"original_title\").book_id.nunique()"
   ]
  },
  {
   "cell_type": "code",
   "execution_count": null,
   "id": "276f19f4-f520-4109-a377-43900db816a1",
   "metadata": {},
   "outputs": [],
   "source": [
    "print(\"{} unique books are present in the dataset.\".format(unique_books))"
   ]
  },
  {
   "cell_type": "markdown",
   "id": "71858ae6-7c67-42e9-90e1-0596ad28a65e",
   "metadata": {},
   "source": [
    "## Q4: What is the average rating of all the books in the dataset based on ‘average_rating’?"
   ]
  },
  {
   "cell_type": "code",
   "execution_count": null,
   "id": "f2018f08-a2cb-4774-a62b-409984b9c7ac",
   "metadata": {},
   "outputs": [],
   "source": [
    "books_df.average_rating.mean()"
   ]
  },
  {
   "cell_type": "code",
   "execution_count": null,
   "id": "6fd16283-aab5-4032-97d6-b0b7fac404b0",
   "metadata": {},
   "outputs": [],
   "source": [
    "avg_rating = books_df.average_rating.mean()"
   ]
  },
  {
   "cell_type": "code",
   "execution_count": null,
   "id": "aca26d54-ba6e-4e9a-b18c-f2c6eb8ca84e",
   "metadata": {},
   "outputs": [],
   "source": [
    "print(\"{:.2f} is the average rating of all the books in the dataset.\".format(avg_rating))"
   ]
  },
  {
   "cell_type": "markdown",
   "id": "d852dcaf-31d9-43ed-993d-b2986dc696c5",
   "metadata": {},
   "source": [
    "## Q5: Find the number of books published in the year ‘2000’ based on the ‘original_publication_year’"
   ]
  },
  {
   "cell_type": "code",
   "execution_count": null,
   "id": "018632ff-7059-4a77-a74f-b6cbadfcfcd6",
   "metadata": {},
   "outputs": [],
   "source": [
    "books_df[books_df.original_publication_year==2000].original_publication_year.count()"
   ]
  },
  {
   "cell_type": "code",
   "execution_count": null,
   "id": "67efd54b-d444-447f-b730-d1b51980e543",
   "metadata": {},
   "outputs": [],
   "source": [
    "no_of_books = books_df[books_df.original_publication_year==2000].original_publication_year.count()"
   ]
  },
  {
   "cell_type": "code",
   "execution_count": null,
   "id": "97bc4d0c-2b1b-4ba8-861d-1ef46729c497",
   "metadata": {},
   "outputs": [],
   "source": [
    "print(\"{} books were published int the year 2000.\".format(no_of_books))"
   ]
  },
  {
   "cell_type": "markdown",
   "id": "be0247af-ec0a-4924-ae51-6a268b601c4b",
   "metadata": {},
   "source": [
    "## Q6: Which book (title) has the maximum number of ratings based on ‘work_ratings_count’"
   ]
  },
  {
   "cell_type": "code",
   "execution_count": null,
   "id": "4bd3d9df-f67c-4144-9bdc-0a28d5ce315d",
   "metadata": {},
   "outputs": [],
   "source": [
    "book_title = books_df[books_df.work_ratings_count == books_df.work_ratings_count.max()].title"
   ]
  },
  {
   "cell_type": "code",
   "execution_count": null,
   "id": "c0cc266b-9ecf-46ed-9709-bb767dca8981",
   "metadata": {},
   "outputs": [],
   "source": [
    "print(book_title)"
   ]
  },
  {
   "cell_type": "markdown",
   "id": "e2d3ae0d-f619-4278-83b2-2331e985c214",
   "metadata": {},
   "source": [
    "## Q7: Bucket the average_rating of books into 11 buckets [0, 0.5, 1.0, 1.5, 2.0, 2.5, 3.0, 3.5, 4.0, 4.5, 5.0] with 0.5 decimal rounding (eg: average_rating 3.0 to 3.49 will fall in bucket 3.0). Plot bar graph to show total number of books in each rating bucket."
   ]
  },
  {
   "cell_type": "code",
   "execution_count": null,
   "id": "be5137d3-c294-43e0-9871-d38fb18411ef",
   "metadata": {},
   "outputs": [],
   "source": [
    "plotvalues = books_df.average_rating.apply(lambda x: np.round(x*2)/2)"
   ]
  },
  {
   "cell_type": "code",
   "execution_count": null,
   "id": "27fd0479-8f8e-496a-a8d5-c59316c162de",
   "metadata": {},
   "outputs": [],
   "source": [
    "plotvalues.value_counts().plot(kind=\"bar\",color=\"blue\", title = \"Number of books vs Average rating of books\", xlabel=\"average_rating of books\", ylabel=\"Number of books\", legend=True, figsize=(12,6));"
   ]
  },
  {
   "cell_type": "code",
   "execution_count": null,
   "id": "e2804a44-b7d1-401b-be1f-7dadf90c549e",
   "metadata": {},
   "outputs": [],
   "source": []
  }
 ],
 "metadata": {
  "kernelspec": {
   "display_name": "Python 3 (ipykernel)",
   "language": "python",
   "name": "python3"
  },
  "language_info": {
   "codemirror_mode": {
    "name": "ipython",
    "version": 3
   },
   "file_extension": ".py",
   "mimetype": "text/x-python",
   "name": "python",
   "nbconvert_exporter": "python",
   "pygments_lexer": "ipython3",
   "version": "3.10.4"
  }
 },
 "nbformat": 4,
 "nbformat_minor": 5
}
