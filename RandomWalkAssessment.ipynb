{
 "cells": [
  {
   "cell_type": "code",
   "execution_count": 1,
   "id": "eca736ca-fff3-42f8-8b73-4d91041b4694",
   "metadata": {},
   "outputs": [],
   "source": [
    "import numpy as np\n",
    "import pandas as pd"
   ]
  },
  {
   "cell_type": "code",
   "execution_count": 2,
   "id": "c90856c2-9ef8-44aa-a28d-112a8499bca4",
   "metadata": {},
   "outputs": [],
   "source": [
    "books_df = pd.read_csv(\"books.csv\")"
   ]
  },
  {
   "cell_type": "code",
   "execution_count": 3,
   "id": "01f04a74-69ff-4134-82b5-71217dfe05ae",
   "metadata": {},
   "outputs": [
    {
     "data": {
      "text/plain": [
       "Index(['book_id', 'goodreads_book_id', 'best_book_id', 'work_id',\n",
       "       'books_count', 'isbn', 'isbn13', 'authors', 'original_publication_year',\n",
       "       'original_title', 'title', 'language_code', 'average_rating',\n",
       "       'ratings_count', 'work_ratings_count', 'work_text_reviews_count',\n",
       "       'ratings_1', 'ratings_2', 'ratings_3', 'ratings_4', 'ratings_5',\n",
       "       'image_url', 'small_image_url', 'NonEnglish'],\n",
       "      dtype='object')"
      ]
     },
     "execution_count": 3,
     "metadata": {},
     "output_type": "execute_result"
    }
   ],
   "source": [
    "books_df.columns"
   ]
  },
  {
   "cell_type": "code",
   "execution_count": 4,
   "id": "c88e78f4-c50a-4e78-bf50-61e6a5a78d8d",
   "metadata": {},
   "outputs": [
    {
     "data": {
      "text/html": [
       "<div>\n",
       "<style scoped>\n",
       "    .dataframe tbody tr th:only-of-type {\n",
       "        vertical-align: middle;\n",
       "    }\n",
       "\n",
       "    .dataframe tbody tr th {\n",
       "        vertical-align: top;\n",
       "    }\n",
       "\n",
       "    .dataframe thead th {\n",
       "        text-align: right;\n",
       "    }\n",
       "</style>\n",
       "<table border=\"1\" class=\"dataframe\">\n",
       "  <thead>\n",
       "    <tr style=\"text-align: right;\">\n",
       "      <th></th>\n",
       "      <th>book_id</th>\n",
       "      <th>goodreads_book_id</th>\n",
       "      <th>best_book_id</th>\n",
       "      <th>work_id</th>\n",
       "      <th>books_count</th>\n",
       "      <th>isbn13</th>\n",
       "      <th>original_publication_year</th>\n",
       "      <th>average_rating</th>\n",
       "      <th>ratings_count</th>\n",
       "      <th>work_ratings_count</th>\n",
       "      <th>work_text_reviews_count</th>\n",
       "      <th>ratings_1</th>\n",
       "      <th>ratings_2</th>\n",
       "      <th>ratings_3</th>\n",
       "      <th>ratings_4</th>\n",
       "      <th>ratings_5</th>\n",
       "      <th>NonEnglish</th>\n",
       "    </tr>\n",
       "  </thead>\n",
       "  <tbody>\n",
       "    <tr>\n",
       "      <th>count</th>\n",
       "      <td>399.000000</td>\n",
       "      <td>3.990000e+02</td>\n",
       "      <td>3.990000e+02</td>\n",
       "      <td>3.990000e+02</td>\n",
       "      <td>399.000000</td>\n",
       "      <td>3.890000e+02</td>\n",
       "      <td>399.000000</td>\n",
       "      <td>399.000000</td>\n",
       "      <td>3.990000e+02</td>\n",
       "      <td>3.990000e+02</td>\n",
       "      <td>399.000000</td>\n",
       "      <td>399.000000</td>\n",
       "      <td>399.000000</td>\n",
       "      <td>399.000000</td>\n",
       "      <td>399.000000</td>\n",
       "      <td>399.000000</td>\n",
       "      <td>399.0</td>\n",
       "    </tr>\n",
       "    <tr>\n",
       "      <th>mean</th>\n",
       "      <td>4629.112782</td>\n",
       "      <td>6.202994e+06</td>\n",
       "      <td>6.403616e+06</td>\n",
       "      <td>1.003106e+07</td>\n",
       "      <td>52.273183</td>\n",
       "      <td>9.780736e+12</td>\n",
       "      <td>1998.583960</td>\n",
       "      <td>3.983784</td>\n",
       "      <td>5.856697e+04</td>\n",
       "      <td>6.338527e+04</td>\n",
       "      <td>3602.338346</td>\n",
       "      <td>1654.025063</td>\n",
       "      <td>3349.325815</td>\n",
       "      <td>12326.313283</td>\n",
       "      <td>22040.551378</td>\n",
       "      <td>24015.055138</td>\n",
       "      <td>0.0</td>\n",
       "    </tr>\n",
       "    <tr>\n",
       "      <th>std</th>\n",
       "      <td>2888.079524</td>\n",
       "      <td>8.537331e+06</td>\n",
       "      <td>8.707742e+06</td>\n",
       "      <td>1.371054e+07</td>\n",
       "      <td>85.456787</td>\n",
       "      <td>5.929345e+08</td>\n",
       "      <td>24.656379</td>\n",
       "      <td>0.221447</td>\n",
       "      <td>1.451770e+05</td>\n",
       "      <td>1.504474e+05</td>\n",
       "      <td>5686.207540</td>\n",
       "      <td>5975.077674</td>\n",
       "      <td>9808.978148</td>\n",
       "      <td>28852.230403</td>\n",
       "      <td>49404.841679</td>\n",
       "      <td>61550.253387</td>\n",
       "      <td>0.0</td>\n",
       "    </tr>\n",
       "    <tr>\n",
       "      <th>min</th>\n",
       "      <td>15.000000</td>\n",
       "      <td>3.860000e+02</td>\n",
       "      <td>3.860000e+02</td>\n",
       "      <td>1.615000e+03</td>\n",
       "      <td>1.000000</td>\n",
       "      <td>9.780007e+12</td>\n",
       "      <td>1791.000000</td>\n",
       "      <td>3.130000</td>\n",
       "      <td>3.799000e+03</td>\n",
       "      <td>8.401000e+03</td>\n",
       "      <td>57.000000</td>\n",
       "      <td>36.000000</td>\n",
       "      <td>125.000000</td>\n",
       "      <td>797.000000</td>\n",
       "      <td>2312.000000</td>\n",
       "      <td>1676.000000</td>\n",
       "      <td>0.0</td>\n",
       "    </tr>\n",
       "    <tr>\n",
       "      <th>25%</th>\n",
       "      <td>2158.500000</td>\n",
       "      <td>4.472250e+04</td>\n",
       "      <td>4.705950e+04</td>\n",
       "      <td>9.427875e+05</td>\n",
       "      <td>20.000000</td>\n",
       "      <td>9.780316e+12</td>\n",
       "      <td>1997.000000</td>\n",
       "      <td>3.830000</td>\n",
       "      <td>1.264800e+04</td>\n",
       "      <td>1.425700e+04</td>\n",
       "      <td>1073.500000</td>\n",
       "      <td>247.000000</td>\n",
       "      <td>670.000000</td>\n",
       "      <td>2951.500000</td>\n",
       "      <td>5295.500000</td>\n",
       "      <td>5002.500000</td>\n",
       "      <td>0.0</td>\n",
       "    </tr>\n",
       "    <tr>\n",
       "      <th>50%</th>\n",
       "      <td>4536.000000</td>\n",
       "      <td>5.342550e+05</td>\n",
       "      <td>5.865160e+05</td>\n",
       "      <td>2.501119e+06</td>\n",
       "      <td>32.000000</td>\n",
       "      <td>9.780554e+12</td>\n",
       "      <td>2006.000000</td>\n",
       "      <td>4.000000</td>\n",
       "      <td>2.007500e+04</td>\n",
       "      <td>2.333000e+04</td>\n",
       "      <td>1849.000000</td>\n",
       "      <td>471.000000</td>\n",
       "      <td>1232.000000</td>\n",
       "      <td>4754.000000</td>\n",
       "      <td>8242.000000</td>\n",
       "      <td>8035.000000</td>\n",
       "      <td>0.0</td>\n",
       "    </tr>\n",
       "    <tr>\n",
       "      <th>75%</th>\n",
       "      <td>7187.500000</td>\n",
       "      <td>1.139371e+07</td>\n",
       "      <td>1.184219e+07</td>\n",
       "      <td>1.632323e+07</td>\n",
       "      <td>55.000000</td>\n",
       "      <td>9.781250e+12</td>\n",
       "      <td>2011.000000</td>\n",
       "      <td>4.140000</td>\n",
       "      <td>4.478050e+04</td>\n",
       "      <td>4.723050e+04</td>\n",
       "      <td>3592.500000</td>\n",
       "      <td>1077.500000</td>\n",
       "      <td>2343.500000</td>\n",
       "      <td>9444.500000</td>\n",
       "      <td>17247.500000</td>\n",
       "      <td>17425.000000</td>\n",
       "      <td>0.0</td>\n",
       "    </tr>\n",
       "    <tr>\n",
       "      <th>max</th>\n",
       "      <td>9968.000000</td>\n",
       "      <td>3.184552e+07</td>\n",
       "      <td>3.184552e+07</td>\n",
       "      <td>5.072324e+07</td>\n",
       "      <td>834.000000</td>\n",
       "      <td>9.784770e+12</td>\n",
       "      <td>2016.000000</td>\n",
       "      <td>4.530000</td>\n",
       "      <td>1.972666e+06</td>\n",
       "      <td>2.024493e+06</td>\n",
       "      <td>49714.000000</td>\n",
       "      <td>100373.000000</td>\n",
       "      <td>149549.000000</td>\n",
       "      <td>355756.000000</td>\n",
       "      <td>656870.000000</td>\n",
       "      <td>875372.000000</td>\n",
       "      <td>0.0</td>\n",
       "    </tr>\n",
       "  </tbody>\n",
       "</table>\n",
       "</div>"
      ],
      "text/plain": [
       "           book_id  goodreads_book_id  best_book_id       work_id  \\\n",
       "count   399.000000       3.990000e+02  3.990000e+02  3.990000e+02   \n",
       "mean   4629.112782       6.202994e+06  6.403616e+06  1.003106e+07   \n",
       "std    2888.079524       8.537331e+06  8.707742e+06  1.371054e+07   \n",
       "min      15.000000       3.860000e+02  3.860000e+02  1.615000e+03   \n",
       "25%    2158.500000       4.472250e+04  4.705950e+04  9.427875e+05   \n",
       "50%    4536.000000       5.342550e+05  5.865160e+05  2.501119e+06   \n",
       "75%    7187.500000       1.139371e+07  1.184219e+07  1.632323e+07   \n",
       "max    9968.000000       3.184552e+07  3.184552e+07  5.072324e+07   \n",
       "\n",
       "       books_count        isbn13  original_publication_year  average_rating  \\\n",
       "count   399.000000  3.890000e+02                 399.000000      399.000000   \n",
       "mean     52.273183  9.780736e+12                1998.583960        3.983784   \n",
       "std      85.456787  5.929345e+08                  24.656379        0.221447   \n",
       "min       1.000000  9.780007e+12                1791.000000        3.130000   \n",
       "25%      20.000000  9.780316e+12                1997.000000        3.830000   \n",
       "50%      32.000000  9.780554e+12                2006.000000        4.000000   \n",
       "75%      55.000000  9.781250e+12                2011.000000        4.140000   \n",
       "max     834.000000  9.784770e+12                2016.000000        4.530000   \n",
       "\n",
       "       ratings_count  work_ratings_count  work_text_reviews_count  \\\n",
       "count   3.990000e+02        3.990000e+02               399.000000   \n",
       "mean    5.856697e+04        6.338527e+04              3602.338346   \n",
       "std     1.451770e+05        1.504474e+05              5686.207540   \n",
       "min     3.799000e+03        8.401000e+03                57.000000   \n",
       "25%     1.264800e+04        1.425700e+04              1073.500000   \n",
       "50%     2.007500e+04        2.333000e+04              1849.000000   \n",
       "75%     4.478050e+04        4.723050e+04              3592.500000   \n",
       "max     1.972666e+06        2.024493e+06             49714.000000   \n",
       "\n",
       "           ratings_1      ratings_2      ratings_3      ratings_4  \\\n",
       "count     399.000000     399.000000     399.000000     399.000000   \n",
       "mean     1654.025063    3349.325815   12326.313283   22040.551378   \n",
       "std      5975.077674    9808.978148   28852.230403   49404.841679   \n",
       "min        36.000000     125.000000     797.000000    2312.000000   \n",
       "25%       247.000000     670.000000    2951.500000    5295.500000   \n",
       "50%       471.000000    1232.000000    4754.000000    8242.000000   \n",
       "75%      1077.500000    2343.500000    9444.500000   17247.500000   \n",
       "max    100373.000000  149549.000000  355756.000000  656870.000000   \n",
       "\n",
       "           ratings_5  NonEnglish  \n",
       "count     399.000000       399.0  \n",
       "mean    24015.055138         0.0  \n",
       "std     61550.253387         0.0  \n",
       "min      1676.000000         0.0  \n",
       "25%      5002.500000         0.0  \n",
       "50%      8035.000000         0.0  \n",
       "75%     17425.000000         0.0  \n",
       "max    875372.000000         0.0  "
      ]
     },
     "execution_count": 4,
     "metadata": {},
     "output_type": "execute_result"
    }
   ],
   "source": [
    "books_df.describe()"
   ]
  },
  {
   "cell_type": "code",
   "execution_count": 5,
   "id": "ccfd2c9c-8dac-419b-8ec1-cf84378d2bbe",
   "metadata": {},
   "outputs": [
    {
     "data": {
      "text/html": [
       "<div>\n",
       "<style scoped>\n",
       "    .dataframe tbody tr th:only-of-type {\n",
       "        vertical-align: middle;\n",
       "    }\n",
       "\n",
       "    .dataframe tbody tr th {\n",
       "        vertical-align: top;\n",
       "    }\n",
       "\n",
       "    .dataframe thead th {\n",
       "        text-align: right;\n",
       "    }\n",
       "</style>\n",
       "<table border=\"1\" class=\"dataframe\">\n",
       "  <thead>\n",
       "    <tr style=\"text-align: right;\">\n",
       "      <th></th>\n",
       "      <th>book_id</th>\n",
       "      <th>goodreads_book_id</th>\n",
       "      <th>best_book_id</th>\n",
       "      <th>work_id</th>\n",
       "      <th>books_count</th>\n",
       "      <th>isbn</th>\n",
       "      <th>isbn13</th>\n",
       "      <th>authors</th>\n",
       "      <th>original_publication_year</th>\n",
       "      <th>original_title</th>\n",
       "      <th>...</th>\n",
       "      <th>work_ratings_count</th>\n",
       "      <th>work_text_reviews_count</th>\n",
       "      <th>ratings_1</th>\n",
       "      <th>ratings_2</th>\n",
       "      <th>ratings_3</th>\n",
       "      <th>ratings_4</th>\n",
       "      <th>ratings_5</th>\n",
       "      <th>image_url</th>\n",
       "      <th>small_image_url</th>\n",
       "      <th>NonEnglish</th>\n",
       "    </tr>\n",
       "  </thead>\n",
       "  <tbody>\n",
       "    <tr>\n",
       "      <th>384</th>\n",
       "      <td>9367</td>\n",
       "      <td>12959045</td>\n",
       "      <td>12959045</td>\n",
       "      <td>18116420</td>\n",
       "      <td>13</td>\n",
       "      <td>1419702173</td>\n",
       "      <td>9.781420e+12</td>\n",
       "      <td>Derf Backderf</td>\n",
       "      <td>2012.0</td>\n",
       "      <td>My Friend Dahmer</td>\n",
       "      <td>...</td>\n",
       "      <td>12333</td>\n",
       "      <td>1874</td>\n",
       "      <td>232</td>\n",
       "      <td>683</td>\n",
       "      <td>2802</td>\n",
       "      <td>5190</td>\n",
       "      <td>3426</td>\n",
       "      <td>https://images.gr-assets.com/books/1325285515m...</td>\n",
       "      <td>https://images.gr-assets.com/books/1325285515s...</td>\n",
       "      <td>0</td>\n",
       "    </tr>\n",
       "    <tr>\n",
       "      <th>103</th>\n",
       "      <td>2229</td>\n",
       "      <td>227603</td>\n",
       "      <td>227603</td>\n",
       "      <td>892616</td>\n",
       "      <td>30</td>\n",
       "      <td>1573225126</td>\n",
       "      <td>9.781573e+12</td>\n",
       "      <td>Elizabeth Wurtzel</td>\n",
       "      <td>1994.0</td>\n",
       "      <td>Prozac Nation</td>\n",
       "      <td>...</td>\n",
       "      <td>46771</td>\n",
       "      <td>1526</td>\n",
       "      <td>1978</td>\n",
       "      <td>5481</td>\n",
       "      <td>14145</td>\n",
       "      <td>14063</td>\n",
       "      <td>11104</td>\n",
       "      <td>https://images.gr-assets.com/books/1282607176m...</td>\n",
       "      <td>https://images.gr-assets.com/books/1282607176s...</td>\n",
       "      <td>0</td>\n",
       "    </tr>\n",
       "    <tr>\n",
       "      <th>252</th>\n",
       "      <td>5703</td>\n",
       "      <td>316558</td>\n",
       "      <td>316558</td>\n",
       "      <td>2893104</td>\n",
       "      <td>51</td>\n",
       "      <td>1400065593</td>\n",
       "      <td>9.781400e+12</td>\n",
       "      <td>Deborah Rodriguez</td>\n",
       "      <td>2007.0</td>\n",
       "      <td>Kabul Beauty School: An American Woman Goes Be...</td>\n",
       "      <td>...</td>\n",
       "      <td>19172</td>\n",
       "      <td>2593</td>\n",
       "      <td>414</td>\n",
       "      <td>1735</td>\n",
       "      <td>6198</td>\n",
       "      <td>6994</td>\n",
       "      <td>3831</td>\n",
       "      <td>https://images.gr-assets.com/books/1320448527m...</td>\n",
       "      <td>https://images.gr-assets.com/books/1320448527s...</td>\n",
       "      <td>0</td>\n",
       "    </tr>\n",
       "    <tr>\n",
       "      <th>26</th>\n",
       "      <td>495</td>\n",
       "      <td>4953</td>\n",
       "      <td>4953</td>\n",
       "      <td>42857</td>\n",
       "      <td>65</td>\n",
       "      <td>375725784</td>\n",
       "      <td>9.780376e+12</td>\n",
       "      <td>Dave Eggers</td>\n",
       "      <td>2000.0</td>\n",
       "      <td>A Heartbreaking Work of Staggering Genius</td>\n",
       "      <td>...</td>\n",
       "      <td>149779</td>\n",
       "      <td>8673</td>\n",
       "      <td>7877</td>\n",
       "      <td>15434</td>\n",
       "      <td>35148</td>\n",
       "      <td>50148</td>\n",
       "      <td>41172</td>\n",
       "      <td>https://images.gr-assets.com/books/1327714834m...</td>\n",
       "      <td>https://images.gr-assets.com/books/1327714834s...</td>\n",
       "      <td>0</td>\n",
       "    </tr>\n",
       "    <tr>\n",
       "      <th>196</th>\n",
       "      <td>4478</td>\n",
       "      <td>1970449</td>\n",
       "      <td>1970449</td>\n",
       "      <td>2338187</td>\n",
       "      <td>25</td>\n",
       "      <td>61351423</td>\n",
       "      <td>9.780061e+12</td>\n",
       "      <td>Slash, Anthony Bozza</td>\n",
       "      <td>2007.0</td>\n",
       "      <td>Slash</td>\n",
       "      <td>...</td>\n",
       "      <td>19266</td>\n",
       "      <td>977</td>\n",
       "      <td>292</td>\n",
       "      <td>1020</td>\n",
       "      <td>4390</td>\n",
       "      <td>7049</td>\n",
       "      <td>6515</td>\n",
       "      <td>https://s.gr-assets.com/assets/nophoto/book/11...</td>\n",
       "      <td>https://s.gr-assets.com/assets/nophoto/book/50...</td>\n",
       "      <td>0</td>\n",
       "    </tr>\n",
       "    <tr>\n",
       "      <th>261</th>\n",
       "      <td>6011</td>\n",
       "      <td>5548</td>\n",
       "      <td>5548</td>\n",
       "      <td>54737</td>\n",
       "      <td>53</td>\n",
       "      <td>393320928</td>\n",
       "      <td>9.780393e+12</td>\n",
       "      <td>Richard Feynman</td>\n",
       "      <td>1988.0</td>\n",
       "      <td>What Do You Care What Other People Think? Furt...</td>\n",
       "      <td>...</td>\n",
       "      <td>16457</td>\n",
       "      <td>638</td>\n",
       "      <td>124</td>\n",
       "      <td>301</td>\n",
       "      <td>2177</td>\n",
       "      <td>6130</td>\n",
       "      <td>7725</td>\n",
       "      <td>https://images.gr-assets.com/books/1297913068m...</td>\n",
       "      <td>https://images.gr-assets.com/books/1297913068s...</td>\n",
       "      <td>0</td>\n",
       "    </tr>\n",
       "    <tr>\n",
       "      <th>318</th>\n",
       "      <td>7615</td>\n",
       "      <td>73965</td>\n",
       "      <td>73965</td>\n",
       "      <td>1045053</td>\n",
       "      <td>24</td>\n",
       "      <td>385315546</td>\n",
       "      <td>9.780385e+12</td>\n",
       "      <td>Caroline Knapp</td>\n",
       "      <td>1996.0</td>\n",
       "      <td>Drinking: A Love Story</td>\n",
       "      <td>...</td>\n",
       "      <td>13121</td>\n",
       "      <td>850</td>\n",
       "      <td>165</td>\n",
       "      <td>596</td>\n",
       "      <td>2606</td>\n",
       "      <td>4958</td>\n",
       "      <td>4796</td>\n",
       "      <td>https://s.gr-assets.com/assets/nophoto/book/11...</td>\n",
       "      <td>https://s.gr-assets.com/assets/nophoto/book/50...</td>\n",
       "      <td>0</td>\n",
       "    </tr>\n",
       "    <tr>\n",
       "      <th>327</th>\n",
       "      <td>7856</td>\n",
       "      <td>851678</td>\n",
       "      <td>851678</td>\n",
       "      <td>837187</td>\n",
       "      <td>16</td>\n",
       "      <td>739458736</td>\n",
       "      <td>9.780743e+12</td>\n",
       "      <td>Carole Radziwill</td>\n",
       "      <td>2005.0</td>\n",
       "      <td>What Remains: A Memoir of Fate, Friendship, an...</td>\n",
       "      <td>...</td>\n",
       "      <td>11631</td>\n",
       "      <td>1282</td>\n",
       "      <td>90</td>\n",
       "      <td>343</td>\n",
       "      <td>1814</td>\n",
       "      <td>4712</td>\n",
       "      <td>4672</td>\n",
       "      <td>https://s.gr-assets.com/assets/nophoto/book/11...</td>\n",
       "      <td>https://s.gr-assets.com/assets/nophoto/book/50...</td>\n",
       "      <td>0</td>\n",
       "    </tr>\n",
       "    <tr>\n",
       "      <th>391</th>\n",
       "      <td>9690</td>\n",
       "      <td>772976</td>\n",
       "      <td>772976</td>\n",
       "      <td>759027</td>\n",
       "      <td>16</td>\n",
       "      <td>3822859834</td>\n",
       "      <td>9.783823e+12</td>\n",
       "      <td>Andrea Kettenmann</td>\n",
       "      <td>2001.0</td>\n",
       "      <td>Frida Kahlo 1907-1954: Pain and Passion</td>\n",
       "      <td>...</td>\n",
       "      <td>8401</td>\n",
       "      <td>57</td>\n",
       "      <td>159</td>\n",
       "      <td>350</td>\n",
       "      <td>1470</td>\n",
       "      <td>2482</td>\n",
       "      <td>3940</td>\n",
       "      <td>https://images.gr-assets.com/books/1365526293m...</td>\n",
       "      <td>https://images.gr-assets.com/books/1365526293s...</td>\n",
       "      <td>0</td>\n",
       "    </tr>\n",
       "    <tr>\n",
       "      <th>71</th>\n",
       "      <td>1408</td>\n",
       "      <td>711901</td>\n",
       "      <td>711901</td>\n",
       "      <td>1623890</td>\n",
       "      <td>57</td>\n",
       "      <td>316067598</td>\n",
       "      <td>9.780316e+12</td>\n",
       "      <td>Marcus Luttrell, Patrick Robinson</td>\n",
       "      <td>2006.0</td>\n",
       "      <td>Lone Survivor: The Eyewitness Account of Opera...</td>\n",
       "      <td>...</td>\n",
       "      <td>59060</td>\n",
       "      <td>6071</td>\n",
       "      <td>752</td>\n",
       "      <td>1742</td>\n",
       "      <td>6835</td>\n",
       "      <td>17239</td>\n",
       "      <td>32492</td>\n",
       "      <td>https://images.gr-assets.com/books/1344265535m...</td>\n",
       "      <td>https://images.gr-assets.com/books/1344265535s...</td>\n",
       "      <td>0</td>\n",
       "    </tr>\n",
       "  </tbody>\n",
       "</table>\n",
       "<p>10 rows × 24 columns</p>\n",
       "</div>"
      ],
      "text/plain": [
       "     book_id  goodreads_book_id  best_book_id   work_id  books_count  \\\n",
       "384     9367           12959045      12959045  18116420           13   \n",
       "103     2229             227603        227603    892616           30   \n",
       "252     5703             316558        316558   2893104           51   \n",
       "26       495               4953          4953     42857           65   \n",
       "196     4478            1970449       1970449   2338187           25   \n",
       "261     6011               5548          5548     54737           53   \n",
       "318     7615              73965         73965   1045053           24   \n",
       "327     7856             851678        851678    837187           16   \n",
       "391     9690             772976        772976    759027           16   \n",
       "71      1408             711901        711901   1623890           57   \n",
       "\n",
       "           isbn        isbn13                            authors  \\\n",
       "384  1419702173  9.781420e+12                      Derf Backderf   \n",
       "103  1573225126  9.781573e+12                  Elizabeth Wurtzel   \n",
       "252  1400065593  9.781400e+12                  Deborah Rodriguez   \n",
       "26    375725784  9.780376e+12                        Dave Eggers   \n",
       "196    61351423  9.780061e+12               Slash, Anthony Bozza   \n",
       "261   393320928  9.780393e+12                    Richard Feynman   \n",
       "318   385315546  9.780385e+12                     Caroline Knapp   \n",
       "327   739458736  9.780743e+12                   Carole Radziwill   \n",
       "391  3822859834  9.783823e+12                  Andrea Kettenmann   \n",
       "71    316067598  9.780316e+12  Marcus Luttrell, Patrick Robinson   \n",
       "\n",
       "     original_publication_year  \\\n",
       "384                     2012.0   \n",
       "103                     1994.0   \n",
       "252                     2007.0   \n",
       "26                      2000.0   \n",
       "196                     2007.0   \n",
       "261                     1988.0   \n",
       "318                     1996.0   \n",
       "327                     2005.0   \n",
       "391                     2001.0   \n",
       "71                      2006.0   \n",
       "\n",
       "                                        original_title  ...  \\\n",
       "384                                   My Friend Dahmer  ...   \n",
       "103                                      Prozac Nation  ...   \n",
       "252  Kabul Beauty School: An American Woman Goes Be...  ...   \n",
       "26           A Heartbreaking Work of Staggering Genius  ...   \n",
       "196                                              Slash  ...   \n",
       "261  What Do You Care What Other People Think? Furt...  ...   \n",
       "318                             Drinking: A Love Story  ...   \n",
       "327  What Remains: A Memoir of Fate, Friendship, an...  ...   \n",
       "391            Frida Kahlo 1907-1954: Pain and Passion  ...   \n",
       "71   Lone Survivor: The Eyewitness Account of Opera...  ...   \n",
       "\n",
       "    work_ratings_count work_text_reviews_count  ratings_1  ratings_2  \\\n",
       "384              12333                    1874        232        683   \n",
       "103              46771                    1526       1978       5481   \n",
       "252              19172                    2593        414       1735   \n",
       "26              149779                    8673       7877      15434   \n",
       "196              19266                     977        292       1020   \n",
       "261              16457                     638        124        301   \n",
       "318              13121                     850        165        596   \n",
       "327              11631                    1282         90        343   \n",
       "391               8401                      57        159        350   \n",
       "71               59060                    6071        752       1742   \n",
       "\n",
       "     ratings_3  ratings_4  ratings_5  \\\n",
       "384       2802       5190       3426   \n",
       "103      14145      14063      11104   \n",
       "252       6198       6994       3831   \n",
       "26       35148      50148      41172   \n",
       "196       4390       7049       6515   \n",
       "261       2177       6130       7725   \n",
       "318       2606       4958       4796   \n",
       "327       1814       4712       4672   \n",
       "391       1470       2482       3940   \n",
       "71        6835      17239      32492   \n",
       "\n",
       "                                             image_url  \\\n",
       "384  https://images.gr-assets.com/books/1325285515m...   \n",
       "103  https://images.gr-assets.com/books/1282607176m...   \n",
       "252  https://images.gr-assets.com/books/1320448527m...   \n",
       "26   https://images.gr-assets.com/books/1327714834m...   \n",
       "196  https://s.gr-assets.com/assets/nophoto/book/11...   \n",
       "261  https://images.gr-assets.com/books/1297913068m...   \n",
       "318  https://s.gr-assets.com/assets/nophoto/book/11...   \n",
       "327  https://s.gr-assets.com/assets/nophoto/book/11...   \n",
       "391  https://images.gr-assets.com/books/1365526293m...   \n",
       "71   https://images.gr-assets.com/books/1344265535m...   \n",
       "\n",
       "                                       small_image_url  NonEnglish  \n",
       "384  https://images.gr-assets.com/books/1325285515s...           0  \n",
       "103  https://images.gr-assets.com/books/1282607176s...           0  \n",
       "252  https://images.gr-assets.com/books/1320448527s...           0  \n",
       "26   https://images.gr-assets.com/books/1327714834s...           0  \n",
       "196  https://s.gr-assets.com/assets/nophoto/book/50...           0  \n",
       "261  https://images.gr-assets.com/books/1297913068s...           0  \n",
       "318  https://s.gr-assets.com/assets/nophoto/book/50...           0  \n",
       "327  https://s.gr-assets.com/assets/nophoto/book/50...           0  \n",
       "391  https://images.gr-assets.com/books/1365526293s...           0  \n",
       "71   https://images.gr-assets.com/books/1344265535s...           0  \n",
       "\n",
       "[10 rows x 24 columns]"
      ]
     },
     "execution_count": 5,
     "metadata": {},
     "output_type": "execute_result"
    }
   ],
   "source": [
    "books_df.sample(10)"
   ]
  },
  {
   "cell_type": "markdown",
   "id": "1a32318e-8bf8-4ff6-9ab3-eae2a41e8091",
   "metadata": {},
   "source": [
    "## Q1: How many rows and columns are there in books.csv dataset?"
   ]
  },
  {
   "cell_type": "code",
   "execution_count": 6,
   "id": "a349ca8d-0172-4de1-97f8-aa1fe361b873",
   "metadata": {},
   "outputs": [
    {
     "data": {
      "text/plain": [
       "(399, 24)"
      ]
     },
     "execution_count": 6,
     "metadata": {},
     "output_type": "execute_result"
    }
   ],
   "source": [
    "books_df.shape"
   ]
  },
  {
   "cell_type": "code",
   "execution_count": 8,
   "id": "1f6d7fa3-d5f2-46e6-a5cf-8576f6e71a75",
   "metadata": {},
   "outputs": [
    {
     "name": "stdout",
     "output_type": "stream",
     "text": [
      "The 'books.csv' dataset contains 399 rows and 24 columns.\n"
     ]
    }
   ],
   "source": [
    "print(\"The \\'books.csv\\' dataset contains {} rows and {} columns.\".format(books_df.shape[0],books_df.shape[1]))"
   ]
  },
  {
   "cell_type": "markdown",
   "id": "0f2f8f85-8b4f-4b5b-839d-6b5886cae40a",
   "metadata": {},
   "source": [
    "## Q2: How many books do not have an original title?"
   ]
  },
  {
   "cell_type": "code",
   "execution_count": 9,
   "id": "9ddc6d67-ae34-4cb7-a9c6-1987548befaa",
   "metadata": {},
   "outputs": [
    {
     "data": {
      "text/plain": [
       "0      Het Achterhuis: Dagboekbrieven 14 juni 1942 - ...\n",
       "1      Eat, pray, love: one woman's search for everyt...\n",
       "2                                       The Glass Castle\n",
       "3                                          Into the Wild\n",
       "4                                Un di Velt Hot Geshvign\n",
       "                             ...                        \n",
       "394                                                 Hope\n",
       "395    Without You, There Is No Us: My Time with the ...\n",
       "396                                          My Lobotomy\n",
       "397    The Prize Winner of Defiance, Ohio: How My Mot...\n",
       "398                The Story of the Trapp Family Singers\n",
       "Name: original_title, Length: 399, dtype: object"
      ]
     },
     "execution_count": 9,
     "metadata": {},
     "output_type": "execute_result"
    }
   ],
   "source": [
    "books_df.original_title"
   ]
  },
  {
   "cell_type": "code",
   "execution_count": 10,
   "id": "4b2c911f-e14f-446f-a30e-2a506480854d",
   "metadata": {},
   "outputs": [
    {
     "data": {
      "text/plain": [
       "36"
      ]
     },
     "execution_count": 10,
     "metadata": {},
     "output_type": "execute_result"
    }
   ],
   "source": [
    "books_df.original_title.isnull().sum()"
   ]
  },
  {
   "cell_type": "code",
   "execution_count": 11,
   "id": "d724f2f0-069e-40fc-9e6f-208e530716d5",
   "metadata": {},
   "outputs": [],
   "source": [
    "books_without_title = books_df.original_title.isnull().sum()"
   ]
  },
  {
   "cell_type": "code",
   "execution_count": 12,
   "id": "9f6f33bd-c3ea-4123-a2ee-04b37a28f643",
   "metadata": {},
   "outputs": [
    {
     "name": "stdout",
     "output_type": "stream",
     "text": [
      "36 books do not have original title.\n"
     ]
    }
   ],
   "source": [
    "print(\"{} books do not have original title.\".format(books_without_title))"
   ]
  },
  {
   "cell_type": "markdown",
   "id": "34717c65-3620-4928-b24b-b3a5249cff8e",
   "metadata": {},
   "source": [
    "## Q3: How many unique books are present in the dataset ? Evaluate based on the 'book_id' after removing null values in the original_title column."
   ]
  },
  {
   "cell_type": "code",
   "execution_count": 13,
   "id": "edfccd03-7157-4061-a2ce-87e3693fe8ce",
   "metadata": {},
   "outputs": [],
   "source": [
    "unique_books = books_df.dropna(subset=\"original_title\").book_id.nunique()"
   ]
  },
  {
   "cell_type": "code",
   "execution_count": 14,
   "id": "276f19f4-f520-4109-a377-43900db816a1",
   "metadata": {},
   "outputs": [
    {
     "name": "stdout",
     "output_type": "stream",
     "text": [
      "363 unique books are present in the dataset.\n"
     ]
    }
   ],
   "source": [
    "print(\"{} unique books are present in the dataset.\".format(unique_books))"
   ]
  },
  {
   "cell_type": "markdown",
   "id": "71858ae6-7c67-42e9-90e1-0596ad28a65e",
   "metadata": {},
   "source": [
    "## Q4: What is the average rating of all the books in the dataset based on ‘average_rating’?"
   ]
  },
  {
   "cell_type": "code",
   "execution_count": 15,
   "id": "f2018f08-a2cb-4774-a62b-409984b9c7ac",
   "metadata": {},
   "outputs": [
    {
     "data": {
      "text/plain": [
       "3.9837844611528817"
      ]
     },
     "execution_count": 15,
     "metadata": {},
     "output_type": "execute_result"
    }
   ],
   "source": [
    "books_df.average_rating.mean()"
   ]
  },
  {
   "cell_type": "code",
   "execution_count": 16,
   "id": "6fd16283-aab5-4032-97d6-b0b7fac404b0",
   "metadata": {},
   "outputs": [],
   "source": [
    "avg_rating = books_df.average_rating.mean()"
   ]
  },
  {
   "cell_type": "code",
   "execution_count": 17,
   "id": "aca26d54-ba6e-4e9a-b18c-f2c6eb8ca84e",
   "metadata": {},
   "outputs": [
    {
     "name": "stdout",
     "output_type": "stream",
     "text": [
      "3.98 is the average rating of all the books in the dataset.\n"
     ]
    }
   ],
   "source": [
    "print(\"{:.2f} is the average rating of all the books in the dataset.\".format(avg_rating))"
   ]
  },
  {
   "cell_type": "markdown",
   "id": "d852dcaf-31d9-43ed-993d-b2986dc696c5",
   "metadata": {},
   "source": [
    "## Q5: Find the number of books published in the year ‘2000’ based on the ‘original_publication_year’"
   ]
  },
  {
   "cell_type": "code",
   "execution_count": 18,
   "id": "018632ff-7059-4a77-a74f-b6cbadfcfcd6",
   "metadata": {},
   "outputs": [
    {
     "data": {
      "text/plain": [
       "8"
      ]
     },
     "execution_count": 18,
     "metadata": {},
     "output_type": "execute_result"
    }
   ],
   "source": [
    "books_df[books_df.original_publication_year==2000].original_publication_year.count()"
   ]
  },
  {
   "cell_type": "code",
   "execution_count": 19,
   "id": "67efd54b-d444-447f-b730-d1b51980e543",
   "metadata": {},
   "outputs": [],
   "source": [
    "no_of_books = books_df[books_df.original_publication_year==2000].original_publication_year.count()"
   ]
  },
  {
   "cell_type": "code",
   "execution_count": 21,
   "id": "97bc4d0c-2b1b-4ba8-861d-1ef46729c497",
   "metadata": {},
   "outputs": [
    {
     "name": "stdout",
     "output_type": "stream",
     "text": [
      "8 books were published int the year 2000.\n"
     ]
    }
   ],
   "source": [
    "print(\"{} books were published int the year 2000.\".format(no_of_books))"
   ]
  },
  {
   "cell_type": "markdown",
   "id": "be0247af-ec0a-4924-ae51-6a268b601c4b",
   "metadata": {},
   "source": [
    "## Q6: Which book (title) has the maximum number of ratings based on ‘work_ratings_count’"
   ]
  },
  {
   "cell_type": "code",
   "execution_count": 22,
   "id": "4bd3d9df-f67c-4144-9bdc-0a28d5ce315d",
   "metadata": {},
   "outputs": [],
   "source": [
    "book_title = books_df[books_df.work_ratings_count == books_df.work_ratings_count.max()].title"
   ]
  },
  {
   "cell_type": "code",
   "execution_count": 24,
   "id": "c0cc266b-9ecf-46ed-9709-bb767dca8981",
   "metadata": {},
   "outputs": [
    {
     "name": "stdout",
     "output_type": "stream",
     "text": [
      "0    The Diary of a Young Girl\n",
      "Name: title, dtype: object\n"
     ]
    }
   ],
   "source": [
    "print(book_title)"
   ]
  },
  {
   "cell_type": "markdown",
   "id": "e2d3ae0d-f619-4278-83b2-2331e985c214",
   "metadata": {},
   "source": [
    "## Q7: Bucket the average_rating of books into 11 buckets [0, 0.5, 1.0, 1.5, 2.0, 2.5, 3.0, 3.5, 4.0, 4.5, 5.0] with 0.5 decimal rounding (eg: average_rating 3.0 to 3.49 will fall in bucket 3.0). Plot bar graph to show total number of books in each rating bucket."
   ]
  },
  {
   "cell_type": "code",
   "execution_count": 25,
   "id": "be5137d3-c294-43e0-9871-d38fb18411ef",
   "metadata": {},
   "outputs": [],
   "source": [
    "plotvalues = books_df.average_rating.apply(lambda x: np.round(x*2)/2)"
   ]
  },
  {
   "cell_type": "code",
   "execution_count": 26,
   "id": "27fd0479-8f8e-496a-a8d5-c59316c162de",
   "metadata": {},
   "outputs": [
    {
     "data": {
      "image/png": "[encoded data removed]",
      "text/plain": [
       "<Figure size 1200x600 with 1 Axes>"
      ]
     },
     "metadata": {},
     "output_type": "display_data"
    }
   ],
   "source": [
    "plotvalues.value_counts().plot(kind=\"bar\",color=\"blue\", title = \"Number of books vs Average rating of books\", xlabel=\"average_rating of books\", ylabel=\"Number of books\", legend=True, figsize=(12,6));"
   ]
  },
  {
   "cell_type": "code",
   "execution_count": null,
   "id": "e2804a44-b7d1-401b-be1f-7dadf90c549e",
   "metadata": {},
   "outputs": [],
   "source": []
  }
 ],
 "metadata": {
  "kernelspec": {
   "display_name": "Python 3 (ipykernel)",
   "language": "python",
   "name": "python3"
  },
  "language_info": {
   "codemirror_mode": {
    "name": "ipython",
    "version": 3
   },
   "file_extension": ".py",
   "mimetype": "text/x-python",
   "name": "python",
   "nbconvert_exporter": "python",
   "pygments_lexer": "ipython3",
   "version": "3.10.4"
  }
 },
 "nbformat": 4,
 "nbformat_minor": 5
}
