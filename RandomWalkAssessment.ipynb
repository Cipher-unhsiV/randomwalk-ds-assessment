{
 "cells": [
  {
   "cell_type": "code",
   "execution_count": 35,
   "id": "eca736ca-fff3-42f8-8b73-4d91041b4694",
   "metadata": {},
   "outputs": [],
   "source": [
    "import numpy as np\n",
    "import pandas as pd"
   ]
  },
  {
   "cell_type": "code",
   "execution_count": 36,
   "id": "c90856c2-9ef8-44aa-a28d-112a8499bca4",
   "metadata": {},
   "outputs": [],
   "source": [
    "books_df = pd.read_csv(\"books.csv\")"
   ]
  },
  {
   "cell_type": "code",
   "execution_count": 37,
   "id": "01f04a74-69ff-4134-82b5-71217dfe05ae",
   "metadata": {},
   "outputs": [
    {
     "data": {
      "text/plain": [
       "Index(['book_id', 'goodreads_book_id', 'best_book_id', 'work_id',\n",
       "       'books_count', 'isbn', 'isbn13', 'authors', 'original_publication_year',\n",
       "       'original_title', 'title', 'language_code', 'average_rating',\n",
       "       'ratings_count', 'work_ratings_count', 'work_text_reviews_count',\n",
       "       'ratings_1', 'ratings_2', 'ratings_3', 'ratings_4', 'ratings_5',\n",
       "       'image_url', 'small_image_url', 'NonEnglish'],\n",
       "      dtype='object')"
      ]
     },
     "execution_count": 37,
     "metadata": {},
     "output_type": "execute_result"
    }
   ],
   "source": [
    "books_df.columns"
   ]
  },
  {
   "cell_type": "code",
   "execution_count": 38,
   "id": "c88e78f4-c50a-4e78-bf50-61e6a5a78d8d",
   "metadata": {},
   "outputs": [
    {
     "data": {
      "text/html": [
       "<div>\n",
       "<style scoped>\n",
       "    .dataframe tbody tr th:only-of-type {\n",
       "        vertical-align: middle;\n",
       "    }\n",
       "\n",
       "    .dataframe tbody tr th {\n",
       "        vertical-align: top;\n",
       "    }\n",
       "\n",
       "    .dataframe thead th {\n",
       "        text-align: right;\n",
       "    }\n",
       "</style>\n",
       "<table border=\"1\" class=\"dataframe\">\n",
       "  <thead>\n",
       "    <tr style=\"text-align: right;\">\n",
       "      <th></th>\n",
       "      <th>book_id</th>\n",
       "      <th>goodreads_book_id</th>\n",
       "      <th>best_book_id</th>\n",
       "      <th>work_id</th>\n",
       "      <th>books_count</th>\n",
       "      <th>isbn13</th>\n",
       "      <th>original_publication_year</th>\n",
       "      <th>average_rating</th>\n",
       "      <th>ratings_count</th>\n",
       "      <th>work_ratings_count</th>\n",
       "      <th>work_text_reviews_count</th>\n",
       "      <th>ratings_1</th>\n",
       "      <th>ratings_2</th>\n",
       "      <th>ratings_3</th>\n",
       "      <th>ratings_4</th>\n",
       "      <th>ratings_5</th>\n",
       "      <th>NonEnglish</th>\n",
       "    </tr>\n",
       "  </thead>\n",
       "  <tbody>\n",
       "    <tr>\n",
       "      <th>count</th>\n",
       "      <td>399.000000</td>\n",
       "      <td>3.990000e+02</td>\n",
       "      <td>3.990000e+02</td>\n",
       "      <td>3.990000e+02</td>\n",
       "      <td>399.000000</td>\n",
       "      <td>3.890000e+02</td>\n",
       "      <td>399.000000</td>\n",
       "      <td>399.000000</td>\n",
       "      <td>3.990000e+02</td>\n",
       "      <td>3.990000e+02</td>\n",
       "      <td>399.000000</td>\n",
       "      <td>399.000000</td>\n",
       "      <td>399.000000</td>\n",
       "      <td>399.000000</td>\n",
       "      <td>399.000000</td>\n",
       "      <td>399.000000</td>\n",
       "      <td>399.0</td>\n",
       "    </tr>\n",
       "    <tr>\n",
       "      <th>mean</th>\n",
       "      <td>4629.112782</td>\n",
       "      <td>6.202994e+06</td>\n",
       "      <td>6.403616e+06</td>\n",
       "      <td>1.003106e+07</td>\n",
       "      <td>52.273183</td>\n",
       "      <td>9.780736e+12</td>\n",
       "      <td>1998.583960</td>\n",
       "      <td>3.983784</td>\n",
       "      <td>5.856697e+04</td>\n",
       "      <td>6.338527e+04</td>\n",
       "      <td>3602.338346</td>\n",
       "      <td>1654.025063</td>\n",
       "      <td>3349.325815</td>\n",
       "      <td>12326.313283</td>\n",
       "      <td>22040.551378</td>\n",
       "      <td>24015.055138</td>\n",
       "      <td>0.0</td>\n",
       "    </tr>\n",
       "    <tr>\n",
       "      <th>std</th>\n",
       "      <td>2888.079524</td>\n",
       "      <td>8.537331e+06</td>\n",
       "      <td>8.707742e+06</td>\n",
       "      <td>1.371054e+07</td>\n",
       "      <td>85.456787</td>\n",
       "      <td>5.929345e+08</td>\n",
       "      <td>24.656379</td>\n",
       "      <td>0.221447</td>\n",
       "      <td>1.451770e+05</td>\n",
       "      <td>1.504474e+05</td>\n",
       "      <td>5686.207540</td>\n",
       "      <td>5975.077674</td>\n",
       "      <td>9808.978148</td>\n",
       "      <td>28852.230403</td>\n",
       "      <td>49404.841679</td>\n",
       "      <td>61550.253387</td>\n",
       "      <td>0.0</td>\n",
       "    </tr>\n",
       "    <tr>\n",
       "      <th>min</th>\n",
       "      <td>15.000000</td>\n",
       "      <td>3.860000e+02</td>\n",
       "      <td>3.860000e+02</td>\n",
       "      <td>1.615000e+03</td>\n",
       "      <td>1.000000</td>\n",
       "      <td>9.780007e+12</td>\n",
       "      <td>1791.000000</td>\n",
       "      <td>3.130000</td>\n",
       "      <td>3.799000e+03</td>\n",
       "      <td>8.401000e+03</td>\n",
       "      <td>57.000000</td>\n",
       "      <td>36.000000</td>\n",
       "      <td>125.000000</td>\n",
       "      <td>797.000000</td>\n",
       "      <td>2312.000000</td>\n",
       "      <td>1676.000000</td>\n",
       "      <td>0.0</td>\n",
       "    </tr>\n",
       "    <tr>\n",
       "      <th>25%</th>\n",
       "      <td>2158.500000</td>\n",
       "      <td>4.472250e+04</td>\n",
       "      <td>4.705950e+04</td>\n",
       "      <td>9.427875e+05</td>\n",
       "      <td>20.000000</td>\n",
       "      <td>9.780316e+12</td>\n",
       "      <td>1997.000000</td>\n",
       "      <td>3.830000</td>\n",
       "      <td>1.264800e+04</td>\n",
       "      <td>1.425700e+04</td>\n",
       "      <td>1073.500000</td>\n",
       "      <td>247.000000</td>\n",
       "      <td>670.000000</td>\n",
       "      <td>2951.500000</td>\n",
       "      <td>5295.500000</td>\n",
       "      <td>5002.500000</td>\n",
       "      <td>0.0</td>\n",
       "    </tr>\n",
       "    <tr>\n",
       "      <th>50%</th>\n",
       "      <td>4536.000000</td>\n",
       "      <td>5.342550e+05</td>\n",
       "      <td>5.865160e+05</td>\n",
       "      <td>2.501119e+06</td>\n",
       "      <td>32.000000</td>\n",
       "      <td>9.780554e+12</td>\n",
       "      <td>2006.000000</td>\n",
       "      <td>4.000000</td>\n",
       "      <td>2.007500e+04</td>\n",
       "      <td>2.333000e+04</td>\n",
       "      <td>1849.000000</td>\n",
       "      <td>471.000000</td>\n",
       "      <td>1232.000000</td>\n",
       "      <td>4754.000000</td>\n",
       "      <td>8242.000000</td>\n",
       "      <td>8035.000000</td>\n",
       "      <td>0.0</td>\n",
       "    </tr>\n",
       "    <tr>\n",
       "      <th>75%</th>\n",
       "      <td>7187.500000</td>\n",
       "      <td>1.139371e+07</td>\n",
       "      <td>1.184219e+07</td>\n",
       "      <td>1.632323e+07</td>\n",
       "      <td>55.000000</td>\n",
       "      <td>9.781250e+12</td>\n",
       "      <td>2011.000000</td>\n",
       "      <td>4.140000</td>\n",
       "      <td>4.478050e+04</td>\n",
       "      <td>4.723050e+04</td>\n",
       "      <td>3592.500000</td>\n",
       "      <td>1077.500000</td>\n",
       "      <td>2343.500000</td>\n",
       "      <td>9444.500000</td>\n",
       "      <td>17247.500000</td>\n",
       "      <td>17425.000000</td>\n",
       "      <td>0.0</td>\n",
       "    </tr>\n",
       "    <tr>\n",
       "      <th>max</th>\n",
       "      <td>9968.000000</td>\n",
       "      <td>3.184552e+07</td>\n",
       "      <td>3.184552e+07</td>\n",
       "      <td>5.072324e+07</td>\n",
       "      <td>834.000000</td>\n",
       "      <td>9.784770e+12</td>\n",
       "      <td>2016.000000</td>\n",
       "      <td>4.530000</td>\n",
       "      <td>1.972666e+06</td>\n",
       "      <td>2.024493e+06</td>\n",
       "      <td>49714.000000</td>\n",
       "      <td>100373.000000</td>\n",
       "      <td>149549.000000</td>\n",
       "      <td>355756.000000</td>\n",
       "      <td>656870.000000</td>\n",
       "      <td>875372.000000</td>\n",
       "      <td>0.0</td>\n",
       "    </tr>\n",
       "  </tbody>\n",
       "</table>\n",
       "</div>"
      ],
      "text/plain": [
       "           book_id  goodreads_book_id  best_book_id       work_id  \\\n",
       "count   399.000000       3.990000e+02  3.990000e+02  3.990000e+02   \n",
       "mean   4629.112782       6.202994e+06  6.403616e+06  1.003106e+07   \n",
       "std    2888.079524       8.537331e+06  8.707742e+06  1.371054e+07   \n",
       "min      15.000000       3.860000e+02  3.860000e+02  1.615000e+03   \n",
       "25%    2158.500000       4.472250e+04  4.705950e+04  9.427875e+05   \n",
       "50%    4536.000000       5.342550e+05  5.865160e+05  2.501119e+06   \n",
       "75%    7187.500000       1.139371e+07  1.184219e+07  1.632323e+07   \n",
       "max    9968.000000       3.184552e+07  3.184552e+07  5.072324e+07   \n",
       "\n",
       "       books_count        isbn13  original_publication_year  average_rating  \\\n",
       "count   399.000000  3.890000e+02                 399.000000      399.000000   \n",
       "mean     52.273183  9.780736e+12                1998.583960        3.983784   \n",
       "std      85.456787  5.929345e+08                  24.656379        0.221447   \n",
       "min       1.000000  9.780007e+12                1791.000000        3.130000   \n",
       "25%      20.000000  9.780316e+12                1997.000000        3.830000   \n",
       "50%      32.000000  9.780554e+12                2006.000000        4.000000   \n",
       "75%      55.000000  9.781250e+12                2011.000000        4.140000   \n",
       "max     834.000000  9.784770e+12                2016.000000        4.530000   \n",
       "\n",
       "       ratings_count  work_ratings_count  work_text_reviews_count  \\\n",
       "count   3.990000e+02        3.990000e+02               399.000000   \n",
       "mean    5.856697e+04        6.338527e+04              3602.338346   \n",
       "std     1.451770e+05        1.504474e+05              5686.207540   \n",
       "min     3.799000e+03        8.401000e+03                57.000000   \n",
       "25%     1.264800e+04        1.425700e+04              1073.500000   \n",
       "50%     2.007500e+04        2.333000e+04              1849.000000   \n",
       "75%     4.478050e+04        4.723050e+04              3592.500000   \n",
       "max     1.972666e+06        2.024493e+06             49714.000000   \n",
       "\n",
       "           ratings_1      ratings_2      ratings_3      ratings_4  \\\n",
       "count     399.000000     399.000000     399.000000     399.000000   \n",
       "mean     1654.025063    3349.325815   12326.313283   22040.551378   \n",
       "std      5975.077674    9808.978148   28852.230403   49404.841679   \n",
       "min        36.000000     125.000000     797.000000    2312.000000   \n",
       "25%       247.000000     670.000000    2951.500000    5295.500000   \n",
       "50%       471.000000    1232.000000    4754.000000    8242.000000   \n",
       "75%      1077.500000    2343.500000    9444.500000   17247.500000   \n",
       "max    100373.000000  149549.000000  355756.000000  656870.000000   \n",
       "\n",
       "           ratings_5  NonEnglish  \n",
       "count     399.000000       399.0  \n",
       "mean    24015.055138         0.0  \n",
       "std     61550.253387         0.0  \n",
       "min      1676.000000         0.0  \n",
       "25%      5002.500000         0.0  \n",
       "50%      8035.000000         0.0  \n",
       "75%     17425.000000         0.0  \n",
       "max    875372.000000         0.0  "
      ]
     },
     "execution_count": 38,
     "metadata": {},
     "output_type": "execute_result"
    }
   ],
   "source": [
    "books_df.describe()"
   ]
  },
  {
   "cell_type": "code",
   "execution_count": 39,
   "id": "ccfd2c9c-8dac-419b-8ec1-cf84378d2bbe",
   "metadata": {},
   "outputs": [
    {
     "data": {
      "text/html": [
       "<div>\n",
       "<style scoped>\n",
       "    .dataframe tbody tr th:only-of-type {\n",
       "        vertical-align: middle;\n",
       "    }\n",
       "\n",
       "    .dataframe tbody tr th {\n",
       "        vertical-align: top;\n",
       "    }\n",
       "\n",
       "    .dataframe thead th {\n",
       "        text-align: right;\n",
       "    }\n",
       "</style>\n",
       "<table border=\"1\" class=\"dataframe\">\n",
       "  <thead>\n",
       "    <tr style=\"text-align: right;\">\n",
       "      <th></th>\n",
       "      <th>book_id</th>\n",
       "      <th>goodreads_book_id</th>\n",
       "      <th>best_book_id</th>\n",
       "      <th>work_id</th>\n",
       "      <th>books_count</th>\n",
       "      <th>isbn</th>\n",
       "      <th>isbn13</th>\n",
       "      <th>authors</th>\n",
       "      <th>original_publication_year</th>\n",
       "      <th>original_title</th>\n",
       "      <th>...</th>\n",
       "      <th>work_ratings_count</th>\n",
       "      <th>work_text_reviews_count</th>\n",
       "      <th>ratings_1</th>\n",
       "      <th>ratings_2</th>\n",
       "      <th>ratings_3</th>\n",
       "      <th>ratings_4</th>\n",
       "      <th>ratings_5</th>\n",
       "      <th>image_url</th>\n",
       "      <th>small_image_url</th>\n",
       "      <th>NonEnglish</th>\n",
       "    </tr>\n",
       "  </thead>\n",
       "  <tbody>\n",
       "    <tr>\n",
       "      <th>99</th>\n",
       "      <td>2144</td>\n",
       "      <td>6882</td>\n",
       "      <td>6882</td>\n",
       "      <td>1289201</td>\n",
       "      <td>163</td>\n",
       "      <td>61120669</td>\n",
       "      <td>9.780061e+12</td>\n",
       "      <td>Henri Charrière</td>\n",
       "      <td>1969.0</td>\n",
       "      <td>Papillon</td>\n",
       "      <td>...</td>\n",
       "      <td>43357</td>\n",
       "      <td>1421</td>\n",
       "      <td>349</td>\n",
       "      <td>1145</td>\n",
       "      <td>6297</td>\n",
       "      <td>15869</td>\n",
       "      <td>19697</td>\n",
       "      <td>https://images.gr-assets.com/books/1327865561m...</td>\n",
       "      <td>https://images.gr-assets.com/books/1327865561s...</td>\n",
       "      <td>0</td>\n",
       "    </tr>\n",
       "    <tr>\n",
       "      <th>75</th>\n",
       "      <td>1515</td>\n",
       "      <td>81227</td>\n",
       "      <td>81227</td>\n",
       "      <td>1133588</td>\n",
       "      <td>57</td>\n",
       "      <td>743289684</td>\n",
       "      <td>9.780743e+12</td>\n",
       "      <td>Ayaan Hirsi Ali</td>\n",
       "      <td>2006.0</td>\n",
       "      <td>Infidel</td>\n",
       "      <td>...</td>\n",
       "      <td>62162</td>\n",
       "      <td>5662</td>\n",
       "      <td>1168</td>\n",
       "      <td>1891</td>\n",
       "      <td>8759</td>\n",
       "      <td>22116</td>\n",
       "      <td>28228</td>\n",
       "      <td>https://s.gr-assets.com/assets/nophoto/book/11...</td>\n",
       "      <td>https://s.gr-assets.com/assets/nophoto/book/50...</td>\n",
       "      <td>0</td>\n",
       "    </tr>\n",
       "    <tr>\n",
       "      <th>206</th>\n",
       "      <td>4694</td>\n",
       "      <td>9972053</td>\n",
       "      <td>9972053</td>\n",
       "      <td>14866301</td>\n",
       "      <td>17</td>\n",
       "      <td>399157530</td>\n",
       "      <td>9.780399e+12</td>\n",
       "      <td>Betty White</td>\n",
       "      <td>2011.0</td>\n",
       "      <td>If You Ask Me: And of Course You Won't</td>\n",
       "      <td>...</td>\n",
       "      <td>23426</td>\n",
       "      <td>2292</td>\n",
       "      <td>843</td>\n",
       "      <td>2269</td>\n",
       "      <td>7212</td>\n",
       "      <td>6985</td>\n",
       "      <td>6117</td>\n",
       "      <td>https://s.gr-assets.com/assets/nophoto/book/11...</td>\n",
       "      <td>https://s.gr-assets.com/assets/nophoto/book/50...</td>\n",
       "      <td>0</td>\n",
       "    </tr>\n",
       "    <tr>\n",
       "      <th>292</th>\n",
       "      <td>6939</td>\n",
       "      <td>392431</td>\n",
       "      <td>392431</td>\n",
       "      <td>382018</td>\n",
       "      <td>22</td>\n",
       "      <td>7236344</td>\n",
       "      <td>9.780007e+12</td>\n",
       "      <td>Cathy Glass</td>\n",
       "      <td>2007.0</td>\n",
       "      <td>Damaged</td>\n",
       "      <td>...</td>\n",
       "      <td>12909</td>\n",
       "      <td>811</td>\n",
       "      <td>133</td>\n",
       "      <td>402</td>\n",
       "      <td>2199</td>\n",
       "      <td>4233</td>\n",
       "      <td>5942</td>\n",
       "      <td>https://s.gr-assets.com/assets/nophoto/book/11...</td>\n",
       "      <td>https://s.gr-assets.com/assets/nophoto/book/50...</td>\n",
       "      <td>0</td>\n",
       "    </tr>\n",
       "    <tr>\n",
       "      <th>355</th>\n",
       "      <td>8675</td>\n",
       "      <td>792938</td>\n",
       "      <td>792938</td>\n",
       "      <td>1240854</td>\n",
       "      <td>16</td>\n",
       "      <td>440220424</td>\n",
       "      <td>9.780440e+12</td>\n",
       "      <td>Sarah L. Delany, A. Elizabeth Delany, Amy Hill...</td>\n",
       "      <td>1993.0</td>\n",
       "      <td>Having Our Say: The Delany Sisters' First 100 ...</td>\n",
       "      <td>...</td>\n",
       "      <td>12056</td>\n",
       "      <td>491</td>\n",
       "      <td>170</td>\n",
       "      <td>388</td>\n",
       "      <td>2096</td>\n",
       "      <td>4360</td>\n",
       "      <td>5042</td>\n",
       "      <td>https://images.gr-assets.com/books/1403192701m...</td>\n",
       "      <td>https://images.gr-assets.com/books/1403192701s...</td>\n",
       "      <td>0</td>\n",
       "    </tr>\n",
       "    <tr>\n",
       "      <th>155</th>\n",
       "      <td>3561</td>\n",
       "      <td>144977</td>\n",
       "      <td>144977</td>\n",
       "      <td>1100660</td>\n",
       "      <td>55</td>\n",
       "      <td>786888768</td>\n",
       "      <td>9.780787e+12</td>\n",
       "      <td>J.R. Moehringer</td>\n",
       "      <td>2005.0</td>\n",
       "      <td>The Tender Bar: A Memoir</td>\n",
       "      <td>...</td>\n",
       "      <td>25277</td>\n",
       "      <td>2393</td>\n",
       "      <td>298</td>\n",
       "      <td>1446</td>\n",
       "      <td>5717</td>\n",
       "      <td>10005</td>\n",
       "      <td>7811</td>\n",
       "      <td>https://s.gr-assets.com/assets/nophoto/book/11...</td>\n",
       "      <td>https://s.gr-assets.com/assets/nophoto/book/50...</td>\n",
       "      <td>0</td>\n",
       "    </tr>\n",
       "    <tr>\n",
       "      <th>357</th>\n",
       "      <td>8724</td>\n",
       "      <td>2187270</td>\n",
       "      <td>2187270</td>\n",
       "      <td>2192977</td>\n",
       "      <td>30</td>\n",
       "      <td>61256684</td>\n",
       "      <td>9.780061e+12</td>\n",
       "      <td>The Waiter, Steve Dublanica</td>\n",
       "      <td>2008.0</td>\n",
       "      <td>Waiter Rant: Thanks for the Tip-Confessions of...</td>\n",
       "      <td>...</td>\n",
       "      <td>12012</td>\n",
       "      <td>1654</td>\n",
       "      <td>350</td>\n",
       "      <td>1333</td>\n",
       "      <td>4338</td>\n",
       "      <td>4034</td>\n",
       "      <td>1957</td>\n",
       "      <td>https://s.gr-assets.com/assets/nophoto/book/11...</td>\n",
       "      <td>https://s.gr-assets.com/assets/nophoto/book/50...</td>\n",
       "      <td>0</td>\n",
       "    </tr>\n",
       "    <tr>\n",
       "      <th>105</th>\n",
       "      <td>2247</td>\n",
       "      <td>193755</td>\n",
       "      <td>193755</td>\n",
       "      <td>565494</td>\n",
       "      <td>87</td>\n",
       "      <td>375701214</td>\n",
       "      <td>9.780376e+12</td>\n",
       "      <td>Jean-Dominique Bauby, Jeremy Leggatt</td>\n",
       "      <td>1997.0</td>\n",
       "      <td>Le Scaphandre et le Papillon</td>\n",
       "      <td>...</td>\n",
       "      <td>45508</td>\n",
       "      <td>3657</td>\n",
       "      <td>572</td>\n",
       "      <td>2098</td>\n",
       "      <td>9483</td>\n",
       "      <td>17444</td>\n",
       "      <td>15911</td>\n",
       "      <td>https://images.gr-assets.com/books/1336930564m...</td>\n",
       "      <td>https://images.gr-assets.com/books/1336930564s...</td>\n",
       "      <td>0</td>\n",
       "    </tr>\n",
       "    <tr>\n",
       "      <th>108</th>\n",
       "      <td>2252</td>\n",
       "      <td>4912</td>\n",
       "      <td>4912</td>\n",
       "      <td>1779262</td>\n",
       "      <td>85</td>\n",
       "      <td>6551815</td>\n",
       "      <td>9.780007e+12</td>\n",
       "      <td>Frank McCourt</td>\n",
       "      <td>1999.0</td>\n",
       "      <td>'Tis: A Memoir</td>\n",
       "      <td>...</td>\n",
       "      <td>46748</td>\n",
       "      <td>1919</td>\n",
       "      <td>652</td>\n",
       "      <td>3689</td>\n",
       "      <td>15825</td>\n",
       "      <td>17256</td>\n",
       "      <td>9326</td>\n",
       "      <td>https://images.gr-assets.com/books/1375947803m...</td>\n",
       "      <td>https://images.gr-assets.com/books/1375947803s...</td>\n",
       "      <td>0</td>\n",
       "    </tr>\n",
       "    <tr>\n",
       "      <th>204</th>\n",
       "      <td>4660</td>\n",
       "      <td>12540</td>\n",
       "      <td>12540</td>\n",
       "      <td>901072</td>\n",
       "      <td>12</td>\n",
       "      <td>1400079098</td>\n",
       "      <td>9.781400e+12</td>\n",
       "      <td>Anne Lamott</td>\n",
       "      <td>1993.0</td>\n",
       "      <td>Operating Instructions: A Journal of My Son's ...</td>\n",
       "      <td>...</td>\n",
       "      <td>20063</td>\n",
       "      <td>1631</td>\n",
       "      <td>218</td>\n",
       "      <td>658</td>\n",
       "      <td>3173</td>\n",
       "      <td>7178</td>\n",
       "      <td>8836</td>\n",
       "      <td>https://s.gr-assets.com/assets/nophoto/book/11...</td>\n",
       "      <td>https://s.gr-assets.com/assets/nophoto/book/50...</td>\n",
       "      <td>0</td>\n",
       "    </tr>\n",
       "  </tbody>\n",
       "</table>\n",
       "<p>10 rows × 24 columns</p>\n",
       "</div>"
      ],
      "text/plain": [
       "     book_id  goodreads_book_id  best_book_id   work_id  books_count  \\\n",
       "99      2144               6882          6882   1289201          163   \n",
       "75      1515              81227         81227   1133588           57   \n",
       "206     4694            9972053       9972053  14866301           17   \n",
       "292     6939             392431        392431    382018           22   \n",
       "355     8675             792938        792938   1240854           16   \n",
       "155     3561             144977        144977   1100660           55   \n",
       "357     8724            2187270       2187270   2192977           30   \n",
       "105     2247             193755        193755    565494           87   \n",
       "108     2252               4912          4912   1779262           85   \n",
       "204     4660              12540         12540    901072           12   \n",
       "\n",
       "           isbn        isbn13  \\\n",
       "99     61120669  9.780061e+12   \n",
       "75    743289684  9.780743e+12   \n",
       "206   399157530  9.780399e+12   \n",
       "292     7236344  9.780007e+12   \n",
       "355   440220424  9.780440e+12   \n",
       "155   786888768  9.780787e+12   \n",
       "357    61256684  9.780061e+12   \n",
       "105   375701214  9.780376e+12   \n",
       "108     6551815  9.780007e+12   \n",
       "204  1400079098  9.781400e+12   \n",
       "\n",
       "                                               authors  \\\n",
       "99                                     Henri Charrière   \n",
       "75                                     Ayaan Hirsi Ali   \n",
       "206                                        Betty White   \n",
       "292                                        Cathy Glass   \n",
       "355  Sarah L. Delany, A. Elizabeth Delany, Amy Hill...   \n",
       "155                                    J.R. Moehringer   \n",
       "357                        The Waiter, Steve Dublanica   \n",
       "105               Jean-Dominique Bauby, Jeremy Leggatt   \n",
       "108                                      Frank McCourt   \n",
       "204                                        Anne Lamott   \n",
       "\n",
       "     original_publication_year  \\\n",
       "99                      1969.0   \n",
       "75                      2006.0   \n",
       "206                     2011.0   \n",
       "292                     2007.0   \n",
       "355                     1993.0   \n",
       "155                     2005.0   \n",
       "357                     2008.0   \n",
       "105                     1997.0   \n",
       "108                     1999.0   \n",
       "204                     1993.0   \n",
       "\n",
       "                                        original_title  ...  \\\n",
       "99                                            Papillon  ...   \n",
       "75                                             Infidel  ...   \n",
       "206             If You Ask Me: And of Course You Won't  ...   \n",
       "292                                            Damaged  ...   \n",
       "355  Having Our Say: The Delany Sisters' First 100 ...  ...   \n",
       "155                           The Tender Bar: A Memoir  ...   \n",
       "357  Waiter Rant: Thanks for the Tip-Confessions of...  ...   \n",
       "105                       Le Scaphandre et le Papillon  ...   \n",
       "108                                     'Tis: A Memoir  ...   \n",
       "204  Operating Instructions: A Journal of My Son's ...  ...   \n",
       "\n",
       "    work_ratings_count work_text_reviews_count  ratings_1  ratings_2  \\\n",
       "99               43357                    1421        349       1145   \n",
       "75               62162                    5662       1168       1891   \n",
       "206              23426                    2292        843       2269   \n",
       "292              12909                     811        133        402   \n",
       "355              12056                     491        170        388   \n",
       "155              25277                    2393        298       1446   \n",
       "357              12012                    1654        350       1333   \n",
       "105              45508                    3657        572       2098   \n",
       "108              46748                    1919        652       3689   \n",
       "204              20063                    1631        218        658   \n",
       "\n",
       "     ratings_3  ratings_4  ratings_5  \\\n",
       "99        6297      15869      19697   \n",
       "75        8759      22116      28228   \n",
       "206       7212       6985       6117   \n",
       "292       2199       4233       5942   \n",
       "355       2096       4360       5042   \n",
       "155       5717      10005       7811   \n",
       "357       4338       4034       1957   \n",
       "105       9483      17444      15911   \n",
       "108      15825      17256       9326   \n",
       "204       3173       7178       8836   \n",
       "\n",
       "                                             image_url  \\\n",
       "99   https://images.gr-assets.com/books/1327865561m...   \n",
       "75   https://s.gr-assets.com/assets/nophoto/book/11...   \n",
       "206  https://s.gr-assets.com/assets/nophoto/book/11...   \n",
       "292  https://s.gr-assets.com/assets/nophoto/book/11...   \n",
       "355  https://images.gr-assets.com/books/1403192701m...   \n",
       "155  https://s.gr-assets.com/assets/nophoto/book/11...   \n",
       "357  https://s.gr-assets.com/assets/nophoto/book/11...   \n",
       "105  https://images.gr-assets.com/books/1336930564m...   \n",
       "108  https://images.gr-assets.com/books/1375947803m...   \n",
       "204  https://s.gr-assets.com/assets/nophoto/book/11...   \n",
       "\n",
       "                                       small_image_url  NonEnglish  \n",
       "99   https://images.gr-assets.com/books/1327865561s...           0  \n",
       "75   https://s.gr-assets.com/assets/nophoto/book/50...           0  \n",
       "206  https://s.gr-assets.com/assets/nophoto/book/50...           0  \n",
       "292  https://s.gr-assets.com/assets/nophoto/book/50...           0  \n",
       "355  https://images.gr-assets.com/books/1403192701s...           0  \n",
       "155  https://s.gr-assets.com/assets/nophoto/book/50...           0  \n",
       "357  https://s.gr-assets.com/assets/nophoto/book/50...           0  \n",
       "105  https://images.gr-assets.com/books/1336930564s...           0  \n",
       "108  https://images.gr-assets.com/books/1375947803s...           0  \n",
       "204  https://s.gr-assets.com/assets/nophoto/book/50...           0  \n",
       "\n",
       "[10 rows x 24 columns]"
      ]
     },
     "execution_count": 39,
     "metadata": {},
     "output_type": "execute_result"
    }
   ],
   "source": [
    "books_df.sample(10)"
   ]
  },
  {
   "cell_type": "markdown",
   "id": "1a32318e-8bf8-4ff6-9ab3-eae2a41e8091",
   "metadata": {},
   "source": [
    "## Q1: How many rows and columns are there in books.csv dataset?"
   ]
  },
  {
   "cell_type": "code",
   "execution_count": 40,
   "id": "a349ca8d-0172-4de1-97f8-aa1fe361b873",
   "metadata": {},
   "outputs": [
    {
     "data": {
      "text/plain": [
       "(399, 24)"
      ]
     },
     "execution_count": 40,
     "metadata": {},
     "output_type": "execute_result"
    }
   ],
   "source": [
    "books_df.shape"
   ]
  },
  {
   "cell_type": "code",
   "execution_count": 41,
   "id": "1f6d7fa3-d5f2-46e6-a5cf-8576f6e71a75",
   "metadata": {},
   "outputs": [
    {
     "name": "stdout",
     "output_type": "stream",
     "text": [
      "The 'books.csv' dataset contains 399 rows and 24 columns.\n"
     ]
    }
   ],
   "source": [
    "print(\"The \\'books.csv\\' dataset contains {} rows and {} columns.\".format(books_df.shape[0],books_df.shape[1]))"
   ]
  },
  {
   "cell_type": "markdown",
   "id": "0f2f8f85-8b4f-4b5b-839d-6b5886cae40a",
   "metadata": {},
   "source": [
    "## Q2: How many books do not have an original title?"
   ]
  },
  {
   "cell_type": "code",
   "execution_count": 42,
   "id": "9ddc6d67-ae34-4cb7-a9c6-1987548befaa",
   "metadata": {},
   "outputs": [
    {
     "data": {
      "text/plain": [
       "0      Het Achterhuis: Dagboekbrieven 14 juni 1942 - ...\n",
       "1      Eat, pray, love: one woman's search for everyt...\n",
       "2                                       The Glass Castle\n",
       "3                                          Into the Wild\n",
       "4                                Un di Velt Hot Geshvign\n",
       "                             ...                        \n",
       "394                                                 Hope\n",
       "395    Without You, There Is No Us: My Time with the ...\n",
       "396                                          My Lobotomy\n",
       "397    The Prize Winner of Defiance, Ohio: How My Mot...\n",
       "398                The Story of the Trapp Family Singers\n",
       "Name: original_title, Length: 399, dtype: object"
      ]
     },
     "execution_count": 42,
     "metadata": {},
     "output_type": "execute_result"
    }
   ],
   "source": [
    "books_df.original_title"
   ]
  },
  {
   "cell_type": "code",
   "execution_count": 43,
   "id": "4b2c911f-e14f-446f-a30e-2a506480854d",
   "metadata": {},
   "outputs": [
    {
     "data": {
      "text/plain": [
       "36"
      ]
     },
     "execution_count": 43,
     "metadata": {},
     "output_type": "execute_result"
    }
   ],
   "source": [
    "books_df.original_title.isnull().sum()"
   ]
  },
  {
   "cell_type": "code",
   "execution_count": 44,
   "id": "d724f2f0-069e-40fc-9e6f-208e530716d5",
   "metadata": {},
   "outputs": [],
   "source": [
    "books_without_title = books_df.original_title.isnull().sum()"
   ]
  },
  {
   "cell_type": "code",
   "execution_count": 45,
   "id": "9f6f33bd-c3ea-4123-a2ee-04b37a28f643",
   "metadata": {},
   "outputs": [
    {
     "name": "stdout",
     "output_type": "stream",
     "text": [
      "36 books do not have original title.\n"
     ]
    }
   ],
   "source": [
    "print(\"{} books do not have original title.\".format(books_without_title))"
   ]
  },
  {
   "cell_type": "markdown",
   "id": "34717c65-3620-4928-b24b-b3a5249cff8e",
   "metadata": {},
   "source": [
    "## Q3: How many unique books are present in the dataset ? Evaluate based on the 'book_id' after removing null values in the original_title column."
   ]
  },
  {
   "cell_type": "code",
   "execution_count": 46,
   "id": "edfccd03-7157-4061-a2ce-87e3693fe8ce",
   "metadata": {},
   "outputs": [],
   "source": [
    "unique_books = books_df.dropna(subset=\"original_title\").book_id.nunique()"
   ]
  },
  {
   "cell_type": "code",
   "execution_count": 47,
   "id": "276f19f4-f520-4109-a377-43900db816a1",
   "metadata": {},
   "outputs": [
    {
     "name": "stdout",
     "output_type": "stream",
     "text": [
      "363 unique books are present in the dataset.\n"
     ]
    }
   ],
   "source": [
    "print(\"{} unique books are present in the dataset.\".format(unique_books))"
   ]
  },
  {
   "cell_type": "markdown",
   "id": "71858ae6-7c67-42e9-90e1-0596ad28a65e",
   "metadata": {},
   "source": [
    "## Q4: What is the average rating of all the books in the dataset based on ‘average_rating’?"
   ]
  },
  {
   "cell_type": "code",
   "execution_count": 48,
   "id": "f2018f08-a2cb-4774-a62b-409984b9c7ac",
   "metadata": {},
   "outputs": [
    {
     "data": {
      "text/plain": [
       "3.9837844611528817"
      ]
     },
     "execution_count": 48,
     "metadata": {},
     "output_type": "execute_result"
    }
   ],
   "source": [
    "books_df.average_rating.mean()"
   ]
  },
  {
   "cell_type": "code",
   "execution_count": 49,
   "id": "6fd16283-aab5-4032-97d6-b0b7fac404b0",
   "metadata": {},
   "outputs": [],
   "source": [
    "avg_rating = books_df.average_rating.mean()"
   ]
  },
  {
   "cell_type": "code",
   "execution_count": 51,
   "id": "aca26d54-ba6e-4e9a-b18c-f2c6eb8ca84e",
   "metadata": {},
   "outputs": [
    {
     "name": "stdout",
     "output_type": "stream",
     "text": [
      "3.98 is the average rating of all the books in the dataset.\n"
     ]
    }
   ],
   "source": [
    "print(\"{:.2f} is the average rating of all the books in the dataset.\".format(avg_rating))"
   ]
  },
  {
   "cell_type": "markdown",
   "id": "d852dcaf-31d9-43ed-993d-b2986dc696c5",
   "metadata": {},
   "source": [
    "## Q5: Find the number of books published in the year ‘2000’ based on the ‘original_publication_year’"
   ]
  },
  {
   "cell_type": "code",
   "execution_count": 52,
   "id": "018632ff-7059-4a77-a74f-b6cbadfcfcd6",
   "metadata": {},
   "outputs": [
    {
     "data": {
      "text/plain": [
       "8"
      ]
     },
     "execution_count": 52,
     "metadata": {},
     "output_type": "execute_result"
    }
   ],
   "source": [
    "books_df[books_df.original_publication_year==2000].original_publication_year.count()"
   ]
  },
  {
   "cell_type": "code",
   "execution_count": 53,
   "id": "67efd54b-d444-447f-b730-d1b51980e543",
   "metadata": {},
   "outputs": [],
   "source": [
    "no_of_books = books_df[books_df.original_publication_year==2000].original_publication_year.count()"
   ]
  },
  {
   "cell_type": "code",
   "execution_count": 54,
   "id": "97bc4d0c-2b1b-4ba8-861d-1ef46729c497",
   "metadata": {},
   "outputs": [
    {
     "name": "stdout",
     "output_type": "stream",
     "text": [
      "8 books were published int the year 2000.\n"
     ]
    }
   ],
   "source": [
    "print(\"{} books were published int the year 2000.\".format(no_of_books))"
   ]
  },
  {
   "cell_type": "markdown",
   "id": "be0247af-ec0a-4924-ae51-6a268b601c4b",
   "metadata": {},
   "source": [
    "## Q6: Which book (title) has the maximum number of ratings based on ‘work_ratings_count’"
   ]
  },
  {
   "cell_type": "code",
   "execution_count": 55,
   "id": "4bd3d9df-f67c-4144-9bdc-0a28d5ce315d",
   "metadata": {},
   "outputs": [],
   "source": [
    "book_title = books_df[books_df.work_ratings_count == books_df.work_ratings_count.max()].title"
   ]
  },
  {
   "cell_type": "code",
   "execution_count": 56,
   "id": "c0cc266b-9ecf-46ed-9709-bb767dca8981",
   "metadata": {},
   "outputs": [
    {
     "name": "stdout",
     "output_type": "stream",
     "text": [
      "0    The Diary of a Young Girl\n",
      "Name: title, dtype: object\n"
     ]
    }
   ],
   "source": [
    "print(book_title)"
   ]
  },
  {
   "cell_type": "markdown",
   "id": "e2d3ae0d-f619-4278-83b2-2331e985c214",
   "metadata": {},
   "source": [
    "## Q7: Bucket the average_rating of books into 11 buckets [0, 0.5, 1.0, 1.5, 2.0, 2.5, 3.0, 3.5, 4.0, 4.5, 5.0] with 0.5 decimal rounding (eg: average_rating 3.0 to 3.49 will fall in bucket 3.0). Plot bar graph to show total number of books in each rating bucket."
   ]
  },
  {
   "cell_type": "code",
   "execution_count": 59,
   "id": "be5137d3-c294-43e0-9871-d38fb18411ef",
   "metadata": {},
   "outputs": [
    {
     "data": {
      "image/png": "[encoded data removed]",
      "text/plain": [
       "<Figure size 640x480 with 1 Axes>"
      ]
     },
     "metadata": {},
     "output_type": "display_data"
    }
   ],
   "source": [
    "books_df.rating_bucket = pd.cut(books_df.average_rating, bins=[0, 0.5, 1.0, 1.5, 2.0, 2.5, 3.0, 3.5, 4.0, 4.5, 5.0], include_lowest=True, right=False)\n",
    "rating_counts = books_df.rating_bucket.value_counts().sort_index()\n",
    "rating_counts.plot(kind='bar', color='blue', title='No of books vs Average rating', xlabel='average_rating', ylabel='No of Books');"
   ]
  },
  {
   "cell_type": "code",
   "execution_count": null,
   "id": "e2804a44-b7d1-401b-be1f-7dadf90c549e",
   "metadata": {},
   "outputs": [],
   "source": []
  }
 ],
 "metadata": {
  "kernelspec": {
   "display_name": "Python 3 (ipykernel)",
   "language": "python",
   "name": "python3"
  },
  "language_info": {
   "codemirror_mode": {
    "name": "ipython",
    "version": 3
   },
   "file_extension": ".py",
   "mimetype": "text/x-python",
   "name": "python",
   "nbconvert_exporter": "python",
   "pygments_lexer": "ipython3",
   "version": "3.10.4"
  }
 },
 "nbformat": 4,
 "nbformat_minor": 5
}
